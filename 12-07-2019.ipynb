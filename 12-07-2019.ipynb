{
 "cells": [
  {
   "cell_type": "markdown",
   "metadata": {},
   "source": [
    "### Regular Expression\n",
    "- Pattern matching\n",
    "- Pattern(re) package\n",
    "- Cap symbol is used to represent the start of re\n",
    "- Dollar symbol is used to represent the end of re\n",
    "- [0-9]--> any digit matching\n",
    "   - Two digit number (^[0-9]{2}$)\n",
    "                                        \n",
    "          - Five digit number(^[0-9]{5}$)"
   ]
  },
  {
   "cell_type": "code",
   "execution_count": 1,
   "metadata": {},
   "outputs": [
    {
     "name": "stdout",
     "output_type": "stream",
     "text": [
      "True\n",
      "False\n"
     ]
    }
   ],
   "source": [
    "#function to test tw digits\n",
    "import re\n",
    "def digit(n):\n",
    "    pattern='^[0-9]{2}$'\n",
    "    n= str(n)\n",
    "    if re.match(pattern,n):\n",
    "        return True\n",
    "    return False\n",
    "print(digit(12))\n",
    "print(digit(123))"
   ]
  },
  {
   "cell_type": "code",
   "execution_count": 8,
   "metadata": {},
   "outputs": [
    {
     "name": "stdout",
     "output_type": "stream",
     "text": [
      "True\n",
      "False\n"
     ]
    }
   ],
   "source": [
    "#function to define username having 8 characters\n",
    "def test(s):\n",
    "    pattern='^[a-zA-Z]{8}$'\n",
    "    if re.match(pattern,s):\n",
    "        return True\n",
    "    return False\n",
    "print(test('Gitamhyd'))\n",
    "print(test('Gitam052'))\n"
   ]
  },
  {
   "cell_type": "markdown",
   "metadata": {},
   "source": [
    "### Regular expressions for characters\n",
    "- [a-z]-->any lower case\n",
    "- [A-Z]-->any upper case\n",
    "- ^[a-z]{5}$--> it accepts 5 lower case characters\n",
    "\n",
    "- ^[a-zA-Z]{8}--> accept 8 characters can be anything lower and upper\n",
    "- ^  [a-zA-Z0-9]{8}$--> Accept 8 characters can be anything lower,upper and digit\n"
   ]
  },
  {
   "cell_type": "markdown",
   "metadata": {},
   "source": [
    "### Regular Expression \n",
    "- 10 Digits\n",
    "- (First didgit will be [6-9]) and remaining 9 digits will be [0-9]\n",
    "- example:768932541\n",
    "- re-^[6-9][0-9]{9}$\n"
   ]
  },
  {
   "cell_type": "code",
   "execution_count": 13,
   "metadata": {},
   "outputs": [
    {
     "data": {
      "text/plain": [
       "True"
      ]
     },
     "execution_count": 13,
     "metadata": {},
     "output_type": "execute_result"
    }
   ],
   "source": [
    "#function to validate Indian mobile number\n",
    "def valid(phone):\n",
    "    pattern='^[6-9][0-9]{9}$|^[0][6-9][0-9]{9}$|[+][9][1][6-9][0-9]{9}$'\n",
    "    phone=str(phone)\n",
    "    if re.match(pattern,phone):\n",
    "        return True\n",
    "    return False\n",
    "valid('+919857624346')"
   ]
  },
  {
   "cell_type": "markdown",
   "metadata": {},
   "source": [
    "- Regular expression to validate the roll number\n",
    "  - Example : 1521A0501\n",
    "  - Example : 1521A0109\n",
    "  - Example : 1521A0499\n",
    "- Regular expression to validate the password\n",
    "  - Parameters : Len min of 6 characters and max of 15 characters\n",
    "  - Accept Lower case, Upper case, digits spl char(@,#,!)"
   ]
  },
  {
   "cell_type": "code",
   "execution_count": 18,
   "metadata": {},
   "outputs": [
    {
     "name": "stdout",
     "output_type": "stream",
     "text": [
      "True\n",
      "False\n"
     ]
    }
   ],
   "source": [
    "#function for validation of roll number\n",
    "def valid1(phone):\n",
    "    pattern='^[1][5][2][1][A][0][0-9]{3}$'\n",
    "    phone=str(phone)\n",
    "    if re.match(pattern,phone):\n",
    "        return True\n",
    "    return False\n",
    "print(valid1('1521A0501'))\n",
    "print(valid1('1521b0501'))"
   ]
  },
  {
   "cell_type": "code",
   "execution_count": 34,
   "metadata": {
    "scrolled": true
   },
   "outputs": [
    {
     "name": "stdout",
     "output_type": "stream",
     "text": [
      "True\n",
      "True\n"
     ]
    }
   ],
   "source": [
    "#function for validation of password\n",
    "def pas(s):\n",
    "    pattern='^[A-Za-z]{4}[@#!]{1}[0-9]{1}$|[A-Za-z]{10}[@#!]{1}[0-9]{4}$'\n",
    "    s=str(s)\n",
    "    if re.match(pattern,s):\n",
    "        return True\n",
    "    return False\n",
    "print(pas('Pass#2'))\n",
    "print(pas('Passwordsp@1234'))"
   ]
  },
  {
   "cell_type": "markdown",
   "metadata": {},
   "source": [
    "### Email id validation using regular expressions\n",
    "- Example:-username@domainname.extension\n",
    "- Username:-\n",
    "   - length will be [6-15]\n",
    "   - no spls characters apart from underscore(_)\n",
    "   - shld not begin and end with underscore(_)\n",
    "   - characters set:all digits and lower case\n",
    "- Domain name:-\n",
    "  - length will be [3-18]\n",
    "  - no spl characters\n",
    "  - character set:all digits and lower case\n",
    "- Extension:-\n",
    "   - length will be [2-4]\n",
    "   - no spl characters\n",
    "   - character set:lower case characters\n",
    "\n"
   ]
  },
  {
   "cell_type": "code",
   "execution_count": 38,
   "metadata": {},
   "outputs": [
    {
     "name": "stdout",
     "output_type": "stream",
     "text": [
      "True\n",
      "False\n"
     ]
    }
   ],
   "source": [
    "#function to validate email\n",
    "def mail(s):\n",
    "    pattern='^[0-9a-z][0-9a-z_.]{5,14}[@][a-z0-9]{3,18}[.][a-z]{2,4}$'\n",
    "    s=str(s)\n",
    "    if re.match(pattern,s):\n",
    "        return True\n",
    "    return False\n",
    "print(mail('gitam_52@gmail.com'))\n",
    "print(mail('gitam@gmail.com'))"
   ]
  },
  {
   "cell_type": "markdown",
   "metadata": {},
   "source": [
    "### Python Turtle\n",
    "- Turtle graphics\n"
   ]
  },
  {
   "cell_type": "code",
   "execution_count": null,
   "metadata": {},
   "outputs": [],
   "source": [
    "#step 1: make all the turtle package in be imported\n",
    "import turtle\n",
    "a1= turtle.Turtle()\n",
    "turtle.forward(250)\n",
    "turtle.done()"
   ]
  },
  {
   "cell_type": "code",
   "execution_count": 1,
   "metadata": {},
   "outputs": [],
   "source": [
    "import turtle as tt\n",
    "a1= tt.Turtle()\n",
    "tt.backward(250)\n",
    "tt.done()"
   ]
  },
  {
   "cell_type": "code",
   "execution_count": 1,
   "metadata": {},
   "outputs": [],
   "source": [
    "#draw square\n",
    "import turtle as tt\n",
    "a1= tt.Turtle()\n",
    "a1.forward(150)\n",
    "a1.right(90)\n",
    "a1.forward(150)\n",
    "a1.right(90)\n",
    "a1.forward(150)\n",
    "a1.right(90)\n",
    "a1.forward(150)\n",
    "a1.right(90)\n",
    "tt.done()"
   ]
  },
  {
   "cell_type": "code",
   "execution_count": 1,
   "metadata": {},
   "outputs": [],
   "source": [
    "#draw square \n",
    "import turtle as t\n",
    "aa = t.Turtle()\n",
    "aa.backward(150)\n",
    "aa.left(90)\n",
    "aa.backward(150)\n",
    "aa.left(90)\n",
    "aa.backward(150)\n",
    "aa.left(90)\n",
    "aa.backward(150)\n",
    "aa.left(90)\n",
    "t.done()"
   ]
  },
  {
   "cell_type": "code",
   "execution_count": 1,
   "metadata": {},
   "outputs": [],
   "source": [
    "#lop statement\n",
    "import turtle as t\n",
    "aa = t.Turtle()\n",
    "for i in range(4):\n",
    "    aa.backward(150)\n",
    "    aa.left(90)\n",
    "t.done()"
   ]
  },
  {
   "cell_type": "code",
   "execution_count": 1,
   "metadata": {},
   "outputs": [],
   "source": [
    "#lop statement\n",
    "import turtle as t\n",
    "aa = t.Turtle()\n",
    "for i in range(4):\n",
    "    aa.forward(150)\n",
    "    aa.right(90)\n",
    "t.done()"
   ]
  },
  {
   "cell_type": "code",
   "execution_count": 2,
   "metadata": {},
   "outputs": [],
   "source": [
    "#star \n",
    "import turtle as t\n",
    "a1= t.Turtle()\n",
    "for i in range(40):\n",
    "    a1.forward(50)\n",
    "    a1.right(144)\n",
    "t.done()"
   ]
  },
  {
   "cell_type": "code",
   "execution_count": 1,
   "metadata": {},
   "outputs": [],
   "source": [
    "#spiriling star\n",
    "import turtle as t\n",
    "a1= t.Turtle()\n",
    "a1.pencolor('blue')\n",
    "for i in range(40):\n",
    "    a1.forward(i*10)\n",
    "    a1.right(144)\n",
    "t.done()"
   ]
  },
  {
   "cell_type": "code",
   "execution_count": 1,
   "metadata": {},
   "outputs": [],
   "source": [
    "import turtle as t\n",
    "a1= t.Turtle()\n",
    "a1.pencolor('pink')\n",
    "for i in range(250):\n",
    "    a1.forward(i)\n",
    "    a1.left(91)\n",
    "t.done()"
   ]
  },
  {
   "cell_type": "code",
   "execution_count": 1,
   "metadata": {},
   "outputs": [],
   "source": [
    "#hexagon spiral with multicolor\n",
    "from turtle import *\n",
    "colors=['blue','green','yellow','orange','purple','red']\n",
    "for x in range(360):\n",
    "    pencolor(colors[x%6])\n",
    "    width(x/100+1)\n",
    "    forward(x)\n",
    "    left(59)"
   ]
  },
  {
   "cell_type": "code",
   "execution_count": 1,
   "metadata": {},
   "outputs": [],
   "source": [
    "#goto function\n",
    "from turtle import *\n",
    "goto(50,50)\n",
    "goto(-50,50)\n",
    "goto(100,-50)\n",
    "goto(-50,-50)"
   ]
  },
  {
   "cell_type": "code",
   "execution_count": 2,
   "metadata": {},
   "outputs": [],
   "source": [
    "#setheading \n",
    "from turtle import *\n",
    "colors=['blue','green','yellow','orange','purple','red']\n",
    "for angle in range(0,360,15):\n",
    "    pencolor(colors[angle%6])\n",
    "    setheading(angle)\n",
    "    forward(100)\n",
    "    write(str(angle)+'o')\n",
    "    backward(100)"
   ]
  },
  {
   "cell_type": "code",
   "execution_count": 1,
   "metadata": {},
   "outputs": [],
   "source": [
    "from turtle import *\n",
    "pencolor('blue')\n",
    "for i in range(20):\n",
    "    forward(100)\n",
    "    left(90)\n",
    "    forward(10)\n",
    "    left(90)\n",
    "    forward(100)\n",
    "    right(90)\n",
    "    forward(10)\n",
    "    right(90)\n",
    "pencolor('red')\n",
    "for i in range(90):\n",
    "    undo()\n",
    "    \n",
    "    "
   ]
  },
  {
   "cell_type": "code",
   "execution_count": 3,
   "metadata": {},
   "outputs": [],
   "source": [
    "from turtle import *\n",
    "pensize(50)\n",
    "pencolor('blue')\n",
    "forward(250)\n",
    "pencolor(0,1.0,0)\n",
    "forward(250)\n",
    "pensize(10)\n",
    "goto(-400,50)\n",
    "for red in range(4):\n",
    "    for green in range(4):\n",
    "        for blue in range(4):\n",
    "            pencolor(red/4.0,green/4.0,blue/4.0)\n",
    "            forward(10)\n",
    "            "
   ]
  },
  {
   "cell_type": "code",
   "execution_count": 1,
   "metadata": {},
   "outputs": [],
   "source": [
    "#rectangle,circle\n",
    "#fill the colors into them\n",
    "#generate some stars\n",
    "# generate rectangle\n",
    "import turtle as t\n",
    "aa=t.Turtle()\n",
    "aa.backward(-100)\n",
    "aa.left(90)\n",
    "aa.backward(50)\n",
    "aa.left(90)\n",
    "aa.forward(100)\n",
    "aa.left(90)\n",
    "aa.forward(-50)\n",
    "aa.left(90)\n",
    "t.done()\n"
   ]
  },
  {
   "cell_type": "code",
   "execution_count": 1,
   "metadata": {},
   "outputs": [],
   "source": [
    "# generate circle\n",
    "import turtle \n",
    "t=turtle.Turtle()\n",
    "t.circle(50)"
   ]
  },
  {
   "cell_type": "code",
   "execution_count": 3,
   "metadata": {},
   "outputs": [],
   "source": [
    "# fill color into a circle\n",
    "import turtle \n",
    "t = turtle.Turtle()\n",
    "t.fillcolor('orange')\n",
    "t.begin_fill()\n",
    "t.circle(100)\n",
    "t.end_fill()"
   ]
  },
  {
   "cell_type": "code",
   "execution_count": 1,
   "metadata": {},
   "outputs": [],
   "source": [
    "# fill color into a rectangle\n",
    "import turtle \n",
    "t=turtle.Turtle()\n",
    "t.fillcolor('blue')\n",
    "t.begin_fill()\n",
    "t.backward(-100)\n",
    "t.left(90)\n",
    "t.backward(50)\n",
    "t.left(90)\n",
    "t.forward(100)\n",
    "t.left(90)\n",
    "t.forward(-50)\n",
    "t.left(90)\n",
    "\n",
    "t.end_fill()"
   ]
  },
  {
   "cell_type": "code",
   "execution_count": 1,
   "metadata": {},
   "outputs": [],
   "source": [
    "from turtle import *\n",
    "colors=('red','orange','yellow','seagreen4','orchid4','royalblue1')\n",
    "reset()\n",
    "up()\n",
    "goto(-320,-195)\n",
    "width(90)\n",
    "for pcolor in colors:\n",
    "   color(pcolor)\n",
    "   down()\n",
    "   forward(750)\n",
    "   up()\n",
    "   backward(750)\n",
    "   left(90)\n",
    "   forward(100)\n",
    "   right(90)\n",
    "width(55)\n",
    "color('white')\n",
    "goto(0,-170)\n",
    "down()\n",
    "\n",
    "circle(170)\n",
    "left(90)\n",
    "forward(340)\n",
    "up()\n",
    "left(180)\n",
    "forward(170)\n",
    "up()\n",
    "backward(170)\n",
    "left(90)\n",
    "down()\n",
    "forward(170)\n",
    "up()\n",
    "goto(0,300)\n"
   ]
  },
  {
   "cell_type": "code",
   "execution_count": null,
   "metadata": {},
   "outputs": [],
   "source": []
  }
 ],
 "metadata": {
  "kernelspec": {
   "display_name": "Python 3",
   "language": "python",
   "name": "python3"
  },
  "language_info": {
   "codemirror_mode": {
    "name": "ipython",
    "version": 3
   },
   "file_extension": ".py",
   "mimetype": "text/x-python",
   "name": "python",
   "nbconvert_exporter": "python",
   "pygments_lexer": "ipython3",
   "version": "3.7.3"
  }
 },
 "nbformat": 4,
 "nbformat_minor": 2
}

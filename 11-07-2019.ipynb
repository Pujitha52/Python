{
 "cells": [
  {
   "cell_type": "markdown",
   "metadata": {},
   "source": [
    "### Standard Libraries\n",
    "- file I/O\n",
    "- Regular expression\n",
    "- Datetime\n",
    "- Math (numerical and mathematical)"
   ]
  },
  {
   "cell_type": "markdown",
   "metadata": {},
   "source": [
    "### File Handling in Python\n",
    "- File:- Document containing information resides on permanent storage\n",
    "- Different types of files:- txt,docpdf,csv and etc\n",
    "- Input -- Keyboard\n",
    "- Output -- File\n",
    "### Modes of the File I/o\n",
    "- 'w' -- This mode is used to file writing\n",
    "      -- If the file is not present it creates the file and write to me data to it\n",
    "      -- If the file is already present then it will rewrite the previous content"
   ]
  },
  {
   "cell_type": "code",
   "execution_count": 2,
   "metadata": {},
   "outputs": [
    {
     "name": "stdout",
     "output_type": "stream",
     "text": [
      "File is created and data has written\n"
     ]
    }
   ],
   "source": [
    "#function to create a file and write  to the file\n",
    "def create(filename):\n",
    "    f = open(filename,'w')\n",
    "    for i in range (10):\n",
    "        f.write('This is %d line' %i)\n",
    "    print(\"File is created and data has written\")\n",
    "    return\n",
    "create('file1.txt')"
   ]
  },
  {
   "cell_type": "code",
   "execution_count": 3,
   "metadata": {},
   "outputs": [
    {
     "name": "stdout",
     "output_type": "stream",
     "text": [
      " Volume in drive C has no label.\n",
      " Volume Serial Number is D861-15D4\n",
      "\n",
      " Directory of C:\\Users\\student\\Desktop\n",
      "\n",
      "11-07-2019  09:39    <DIR>          .\n",
      "11-07-2019  09:39    <DIR>          ..\n",
      "11-07-2019  09:10    <DIR>          .ipynb_checkpoints\n",
      "09-07-2019  17:08            10,679 08-07-2019.ipynb\n",
      "09-07-2019  09:13            10,679 08-07-2019-Copy1.ipynb\n",
      "09-07-2019  17:15               645 09-07-2019(assignment).ipynb\n",
      "09-07-2019  16:36            13,000 09-07-2019.ipynb\n",
      "10-07-2019  16:30            16,838 10-07-2019.ipynb\n",
      "11-07-2019  09:39             1,826 11-07-2019.ipynb\n",
      "10-07-2019  17:06             6,009 assignment(10-07-2019).ipynb\n",
      "08-07-2019  16:48            10,386 factor.rap\n",
      "11-07-2019  09:37               140 file1.txt\n",
      "18-06-2019  10:10            37,000 hyderabad-campus-image.jpg\n",
      "17-06-2019  12:47             6,038 index.jpg\n",
      "08-07-2019  12:33            19,852 PU.rap\n",
      "08-07-2019  12:27            19,732 PU.rap.backup0\n",
      "08-07-2019  12:13            19,383 PU.rap.backup1\n",
      "08-07-2019  12:17            19,499 PU.rap.backup2\n",
      "08-07-2019  12:21            19,614 PU.rap.backup3\n",
      "05-07-2019  11:50    <DIR>          RAPTOR\n",
      "08-07-2019  09:49               903 Untitled.ipynb\n",
      "08-07-2019  11:48           121,471 Untitled1.ipynb\n",
      "              18 File(s)        333,694 bytes\n",
      "               4 Dir(s)  50,777,149,440 bytes free\n"
     ]
    }
   ],
   "source": [
    "ls"
   ]
  },
  {
   "cell_type": "code",
   "execution_count": 4,
   "metadata": {},
   "outputs": [
    {
     "name": "stdout",
     "output_type": "stream",
     "text": [
      "Testing...\n",
      "\n",
      "File is created and data has written\n"
     ]
    }
   ],
   "source": [
    "#function to create a file and write  to the file\n",
    "def create(filename):\n",
    "    f = open(filename,'w')\n",
    "    print('Testing...\\n')\n",
    "    print(\"File is created and data has written\")\n",
    "    return\n",
    "create('file1.txt')"
   ]
  },
  {
   "cell_type": "code",
   "execution_count": 3,
   "metadata": {},
   "outputs": [
    {
     "name": "stdout",
     "output_type": "stream",
     "text": [
      "file created and successfully data written\n"
     ]
    }
   ],
   "source": [
    "def appenddata(filename):\n",
    "    f=open(filename,'a')\n",
    "    for i in range(10):\n",
    "        f.write(\"new line 1\\n\")\n",
    "        f.write(\"new line 2 \\n\")\n",
    "    print(\"file created and successfully data written\")\n",
    "    return\n",
    "appenddata('file2.txt')\n",
    "    "
   ]
  },
  {
   "cell_type": "code",
   "execution_count": 2,
   "metadata": {},
   "outputs": [
    {
     "name": "stdout",
     "output_type": "stream",
     "text": [
      "file created and successfully data written\n"
     ]
    }
   ],
   "source": [
    "def appenddata(filename):\n",
    "    f=open(filename,'a')\n",
    "    for i in range(10):\n",
    "        f.write(\"this is %d line \\n\"%i)\n",
    "    print(\"file created and successfully data written\")\n",
    "    return\n",
    "appenddata('file2.txt')"
   ]
  },
  {
   "cell_type": "code",
   "execution_count": 8,
   "metadata": {},
   "outputs": [
    {
     "name": "stdout",
     "output_type": "stream",
     "text": [
      "new line 1\n",
      "new linw 2 \n",
      "new line 1\n",
      "new linw 2 \n",
      "new line 1\n",
      "new linw 2 \n",
      "new line 1\n",
      "new linw 2 \n",
      "new line 1\n",
      "new linw 2 \n",
      "new line 1\n",
      "new linw 2 \n",
      "new line 1\n",
      "new linw 2 \n",
      "new line 1\n",
      "new linw 2 \n",
      "new line 1\n",
      "new linw 2 \n",
      "new line 1\n",
      "new linw 2 \n",
      "this is 0 line \n",
      "this is 1 line \n",
      "this is 2 line \n",
      "this is 3 line \n",
      "this is 4 line \n",
      "this is 5 line \n",
      "this is 6 line \n",
      "this is 7 line \n",
      "this is 8 line \n",
      "this is 9 line \n",
      "new line 1\n",
      "new line 2 \n",
      "new line 1\n",
      "new line 2 \n",
      "new line 1\n",
      "new line 2 \n",
      "new line 1\n",
      "new line 2 \n",
      "new line 1\n",
      "new line 2 \n",
      "new line 1\n",
      "new line 2 \n",
      "new line 1\n",
      "new line 2 \n",
      "new line 1\n",
      "new line 2 \n",
      "new line 1\n",
      "new line 2 \n",
      "new line 1\n",
      "new line 2 \n",
      "new line 1\n",
      "new line 2 \n",
      "new line 1\n",
      "new line 2 \n",
      "new line 1\n",
      "new line 2 \n",
      "new line 1\n",
      "new line 2 \n",
      "new line 1\n",
      "new line 2 \n",
      "new line 1\n",
      "new line 2 \n",
      "new line 1\n",
      "new line 2 \n",
      "new line 1\n",
      "new line 2 \n",
      "new line 1\n",
      "new line 2 \n",
      "new line 1\n",
      "new line 2 \n",
      "\n"
     ]
    }
   ],
   "source": [
    "#function to read of the file\n",
    "def readfiledata(filename):\n",
    "    f=open(filename,'r')\n",
    "    if f.mode=='r':\n",
    "        x=f.read()\n",
    "        print(x)\n",
    "    f.close()\n",
    "    return\n",
    "readfiledata('file2.txt')"
   ]
  },
  {
   "cell_type": "code",
   "execution_count": 11,
   "metadata": {},
   "outputs": [
    {
     "name": "stdout",
     "output_type": "stream",
     "text": [
      "enter filenamefilename.txt\n",
      "enter mode of filea\n",
      "data successfully written\n"
     ]
    }
   ],
   "source": [
    "#funtion to read the file\n",
    "def fileoperations(filename,mode):\n",
    "    with open(filename,mode) as f:\n",
    "        if f.mode=='r':\n",
    "            data=f.read()\n",
    "            print(data)\n",
    "        elif f.mode=='a':\n",
    "            f.write('data to file')\n",
    "            print('data successfully written')\n",
    "    return\n",
    "filename=input('enter filename')\n",
    "mode=input('enter mode of file')\n",
    "fileoperations(filename,mode)"
   ]
  },
  {
   "cell_type": "code",
   "execution_count": 14,
   "metadata": {},
   "outputs": [
    {
     "name": "stdout",
     "output_type": "stream",
     "text": [
      "enter filename:file2.txt\n",
      "enter the word:this\n"
     ]
    },
    {
     "data": {
      "text/plain": [
       "10"
      ]
     },
     "execution_count": 14,
     "metadata": {},
     "output_type": "execute_result"
    }
   ],
   "source": [
    "#data analysis\n",
    "#word count program\n",
    "def wordcount(filename,word):\n",
    "    with open(filename,'r') as f:\n",
    "        if f.mode=='r':\n",
    "            x=f.read()\n",
    "            li=x.split()\n",
    "    cnt=li.count(word)\n",
    "    return cnt\n",
    "filename=input('enter filename:')\n",
    "word=input('enter the word:')\n",
    "wordcount(filename,word)"
   ]
  },
  {
   "cell_type": "code",
   "execution_count": 17,
   "metadata": {},
   "outputs": [
    {
     "name": "stdout",
     "output_type": "stream",
     "text": [
      "enter filename:file2.txt\n"
     ]
    },
    {
     "data": {
      "text/plain": [
       "850"
      ]
     },
     "execution_count": 17,
     "metadata": {},
     "output_type": "execute_result"
    }
   ],
   "source": [
    "#character count from the given file\n",
    "def count(filename):\n",
    "    with open(filename,'r') as f:\n",
    "        if f.mode=='r':\n",
    "            x=f.read()\n",
    "            li=list(x)\n",
    "    return len(li)\n",
    "filename=input('enter filename:')\n",
    "count(filename)"
   ]
  },
  {
   "cell_type": "code",
   "execution_count": 18,
   "metadata": {},
   "outputs": [
    {
     "name": "stdout",
     "output_type": "stream",
     "text": [
      "['python progr', 'mming']\n"
     ]
    }
   ],
   "source": [
    "s1=\"python programming\"\n",
    "print(s1.split('a'))"
   ]
  },
  {
   "cell_type": "code",
   "execution_count": 20,
   "metadata": {},
   "outputs": [
    {
     "name": "stdout",
     "output_type": "stream",
     "text": [
      "enter filename:file2.txt\n"
     ]
    },
    {
     "data": {
      "text/plain": [
       "71"
      ]
     },
     "execution_count": 20,
     "metadata": {},
     "output_type": "execute_result"
    }
   ],
   "source": [
    "#function to find the no of list in upper file\n",
    "#input--filename(file2.txt)\n",
    "#output--no of lines(12)\n",
    "def lines(filename):\n",
    "    with open(filename,'r') as f:\n",
    "        if f.mode=='r':\n",
    "            x=f.read()\n",
    "            li=x.split(\"\\n\")\n",
    "    return len(li)\n",
    "filename=input('enter filename:')\n",
    "lines(filename)"
   ]
  },
  {
   "cell_type": "code",
   "execution_count": 23,
   "metadata": {},
   "outputs": [
    {
     "name": "stdout",
     "output_type": "stream",
     "text": [
      "enter filename:file2.txt\n"
     ]
    },
    {
     "data": {
      "text/plain": [
       "'upper case=0,lower case=520'"
      ]
     },
     "execution_count": 23,
     "metadata": {},
     "output_type": "execute_result"
    }
   ],
   "source": [
    "#function to print upper and lower characters\n",
    "def case(filename):\n",
    "    cntupper=0\n",
    "    cntlower=0\n",
    "    with open(filename,'r') as f:\n",
    "        if f.mode=='r':\n",
    "            x=f.read()\n",
    "            li=list(x)\n",
    "    for i in li:\n",
    "        if i.isupper():\n",
    "            cntupper+=1\n",
    "        elif i.islower():\n",
    "            cntlower+=1\n",
    "    output='upper case={0},lower case={1}'.format(cntupper,cntlower)\n",
    "    return output\n",
    "filename=input('enter filename:')\n",
    "case(filename)"
   ]
  },
  {
   "cell_type": "markdown",
   "metadata": {},
   "source": [
    "### math,random,os\n",
    "- os package it contains the certain methods which work with os\n",
    "- older version python -- os.listdir()\n",
    "- new version python -- os.scandir() and pathlib.path()"
   ]
  },
  {
   "cell_type": "code",
   "execution_count": 24,
   "metadata": {},
   "outputs": [
    {
     "name": "stdout",
     "output_type": "stream",
     "text": [
      " Volume in drive C has no label.\n",
      " Volume Serial Number is 42FB-FD34\n",
      "\n",
      " Directory of C:\\Users\\exam\\Downloads\n",
      "\n",
      "11-07-2019  12:21    <DIR>          .\n",
      "11-07-2019  12:21    <DIR>          ..\n",
      "11-07-2019  09:51    <DIR>          .ipynb_checkpoints\n",
      "11-07-2019  12:21            12,160 11-07-2019.ipynb\n",
      "26-06-2019  15:57           344,470 148191.jpg\n",
      "17-06-2019  12:36            16,192 220px-Gandhi_Institute_of_Technology_and_Management_logo.jpg\n",
      "24-06-2019  16:46             5,097 24 june .py\n",
      "26-06-2019  16:20             5,622 26 JUNE  completed.py\n",
      "26-06-2019  16:52            26,183 26 JUNE  done for the day.ipynb\n",
      "26-06-2019  16:52             6,861 26 JUNE  done for the day.py\n",
      "26-06-2019  15:16            18,596 26 JUNE an.ipynb\n",
      "26-06-2019  15:19             4,947 26 JUNE an.py\n",
      "27-06-2019  17:02             5,155 27 JUNE with assignment.py\n",
      "27-06-2019  15:48             9,708 27 JUNE.ipynb\n",
      "27-06-2019  15:46             3,754 27 JUNE.py\n",
      "28-06-2019  15:49            24,686 28 JUNE.ipynb\n",
      "28-06-2019  15:49             4,121 28 JUNE.py\n",
      "29-06-2019  14:14               791 29 JUNE  2019 (1).py\n",
      "29-06-2019  12:00             5,952 29 JUNE  2019.ipynb\n",
      "29-06-2019  12:00               791 29 JUNE  2019.py\n",
      "26-06-2019  15:59            80,614 500436.jpg\n",
      "26-06-2019  15:59           244,651 500470.jpg\n",
      "26-06-2019  15:13           114,784 5KNHC4F-deadpool-wallpaper-hd.jpg\n",
      "26-06-2019  15:54           401,717 907220.jpg\n",
      "21-06-2019  11:33       572,204,080 Anaconda3-2019.03-Windows-x86.exe\n",
      "03-07-2019  16:16             3,273 basic.rap\n",
      "29-06-2019  14:04               912 cheaos.py\n",
      "21-06-2019  12:35             6,076 day 5 6.rap\n",
      "26-06-2019  15:12           119,326 Dd1qQ8P-deadpool-wallpaper-hd.jpg\n",
      "19-06-2019  13:58                44 e.bat\n",
      "29-06-2019  14:04               892 fatlines.py\n",
      "03-07-2019  17:05             9,250 file10 (1).rap\n",
      "03-07-2019  17:11             9,250 file10 (2).rap\n",
      "03-07-2019  16:22             9,250 file10.rap\n",
      "03-07-2019  16:39             8,890 file11 (1).rap\n",
      "03-07-2019  17:12             8,890 file11 (2).rap\n",
      "03-07-2019  16:22             8,890 file11.rap\n",
      "03-07-2019  17:14             3,273 file12 (1).rap\n",
      "03-07-2019  16:39             3,273 file12.rap\n",
      "03-07-2019  16:35             7,617 file13 (1).rap\n",
      "03-07-2019  16:37             7,617 file13 (2).rap\n",
      "03-07-2019  16:38             7,617 file13 (3).rap\n",
      "03-07-2019  17:14             7,617 file13 (4).rap\n",
      "03-07-2019  16:22             7,617 file13.rap\n",
      "03-07-2019  16:22             6,611 file14 (1).rap\n",
      "03-07-2019  16:31             6,611 file14 (2).rap\n",
      "03-07-2019  17:16             6,611 file14 (3).rap\n",
      "03-07-2019  16:22             6,611 file14.rap\n",
      "03-07-2019  16:21             3,654 file2 (1).rap\n",
      "03-07-2019  12:39             3,654 file2.rap\n",
      "11-07-2019  10:04               920 file2.txt\n",
      "03-07-2019  16:22             3,876 file3.rap\n",
      "03-07-2019  17:07             3,997 file4 (1).rap\n",
      "03-07-2019  16:22             3,997 file4.rap\n",
      "03-07-2019  17:07             4,956 file5 (1).rap\n",
      "03-07-2019  16:21             4,956 file5.rap\n",
      "03-07-2019  17:08             6,911 file6 (1).rap\n",
      "03-07-2019  16:22             6,911 file6.rap\n",
      "03-07-2019  17:09             7,967 file7 (1).rap\n",
      "03-07-2019  17:10             7,967 file7 (2).rap\n",
      "03-07-2019  16:22             7,967 file7.rap\n",
      "03-07-2019  16:22             7,267 file8 (1).rap\n",
      "03-07-2019  17:10             7,267 file8 (2).rap\n",
      "03-07-2019  16:22             7,267 file8.rap\n",
      "11-07-2019  10:22                24 filename.txt\n",
      "29-06-2019  14:03               508 flowers.py\n",
      "19-06-2019  12:01        46,908,040 Git-2.22.0-32-bit.exe\n",
      "25-06-2019  12:51             2,462 JUNE 25.py\n",
      "20-06-2019  08:48             6,702 kok.rap\n",
      "19-06-2019  13:59             1,099 NirSoft.lnk\n",
      "22-06-2019  15:50             4,042 PYTHON DAY 22.py\n",
      "22-06-2019  15:18             3,828 PYTHON DAY 6 (1).py\n",
      "22-06-2019  12:55             2,970 PYTHON DAY 6.py\n",
      "29-06-2019  10:08        25,424,128 python-3.7.3.exe\n",
      "28-06-2019  16:31             9,113 rap10- sum of even nos bw 1 to n.rap\n",
      "28-06-2019  16:31             8,411 rap11- reverse no.rap\n",
      "28-06-2019  16:32            11,082 rap12- only even digit sum.rap\n",
      "28-06-2019  16:32            12,236 rap13-highest digit.rap\n",
      "28-06-2019  16:32            12,727 rap15- no is rev.rap\n",
      "28-06-2019  16:33            15,697 rap16-armstrong (1).rap\n",
      "28-06-2019  16:32            15,697 rap16-armstrong.rap\n",
      "28-06-2019  16:33             5,669 RaptorAge.rap\n",
      "28-06-2019  16:33             6,159 raptorDivisibility.rap\n",
      "28-06-2019  16:33             6,724 raptorGreatest2.rap\n",
      "28-06-2019  16:34             8,551 raptorLeastCondition.rap\n",
      "28-06-2019  16:34             9,264 raptorSumofN.rap\n",
      "26-06-2019  15:13           429,499 rC3kRtk-dead-pool-wallpaper.jpg\n",
      "21-06-2019  06:00               263 site.webmanifest\n",
      "20-06-2019  08:49             5,598 test1.rap\n",
      "20-06-2019  08:49             5,817 test2.rap\n",
      "20-06-2019  08:49             4,636 test3.rap\n",
      "20-06-2019  08:56             4,174 test4 (1).rap\n",
      "20-06-2019  08:57             4,174 test4 (2).rap\n",
      "20-06-2019  08:58             4,174 test4 (3).rap\n",
      "20-06-2019  08:58             9,610 test4.rap\n",
      "20-06-2019  08:53             4,431 test4.rap.backup0\n",
      "20-06-2019  09:00             9,852 test5.rap\n",
      "26-06-2019  15:15           975,873 thumb-1920-437964.png\n",
      "26-06-2019  15:14           260,048 VR9NPYI-deadpool-wallpaper-hd.jpg\n",
      "19-06-2019  17:13               859 WebBrowserPassView.cfg\n",
      "02-07-2017  00:05           370,384 WebBrowserPassView.exe\n",
      "19-06-2019  13:56           296,384 webbrowserpassview_setup.exe\n",
      "26-06-2019  15:14            61,337 wp2621639-wallpaper-deadpool-hd.jpg\n",
      "09-07-2019  16:46           688,793 Y 8.html\n",
      "09-07-2019  16:46    <DIR>          Y 8_files\n",
      "             101 File(s)    649,497,523 bytes\n",
      "               4 Dir(s)  78,916,550,656 bytes free\n"
     ]
    }
   ],
   "source": [
    "ls"
   ]
  },
  {
   "cell_type": "code",
   "execution_count": null,
   "metadata": {},
   "outputs": [],
   "source": []
  },
  {
   "cell_type": "code",
   "execution_count": null,
   "metadata": {},
   "outputs": [],
   "source": []
  },
  {
   "cell_type": "code",
   "execution_count": null,
   "metadata": {},
   "outputs": [],
   "source": []
  }
 ],
 "metadata": {
  "kernelspec": {
   "display_name": "Python 3",
   "language": "python",
   "name": "python3"
  },
  "language_info": {
   "codemirror_mode": {
    "name": "ipython",
    "version": 3
   },
   "file_extension": ".py",
   "mimetype": "text/x-python",
   "name": "python",
   "nbconvert_exporter": "python",
   "pygments_lexer": "ipython3",
   "version": "3.7.3"
  }
 },
 "nbformat": 4,
 "nbformat_minor": 2
}

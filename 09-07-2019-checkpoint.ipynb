{
 "cells": [
  {
   "cell_type": "markdown",
   "metadata": {},
   "source": [
    "### Python Data Structures\n",
    "#### Lists\n",
    "- It's one of common data structure supported by python, the list items are seperated by comma operator and enclosed in square bracket.\n",
    "- Example:\n",
    "       list1[1,6,9,5]\n",
    "       list2[\"Gitam\",10,15,\"Hyderabad\"]"
   ]
  },
  {
   "cell_type": "code",
   "execution_count": 1,
   "metadata": {},
   "outputs": [
    {
     "name": "stdout",
     "output_type": "stream",
     "text": [
      "[1, 8, 3, 12, 19]\n",
      "1\n",
      "8\n",
      "19\n",
      "12\n",
      "[8, 3, 12, 19]\n",
      "[8, 3, 12]\n"
     ]
    }
   ],
   "source": [
    "lst=[1,8,3,12,19]\n",
    "print(lst)\n",
    "print(lst[0])\n",
    "print(lst[1])\n",
    "print(lst[-1])\n",
    "print(lst[-2])\n",
    "print(lst[1:])\n",
    "print(lst[1:4])"
   ]
  },
  {
   "cell_type": "code",
   "execution_count": 3,
   "metadata": {},
   "outputs": [
    {
     "name": "stdout",
     "output_type": "stream",
     "text": [
      "['Gitam', 'Python', 1989]\n",
      "['Gitam', 'Python', 2019]\n"
     ]
    }
   ],
   "source": [
    "li=[\"Gitam\",\"Python\",1989]\n",
    "print(li)\n",
    "li[2]=2019\n",
    "print(li)"
   ]
  },
  {
   "cell_type": "code",
   "execution_count": 8,
   "metadata": {},
   "outputs": [
    {
     "name": "stdout",
     "output_type": "stream",
     "text": [
      "['Gitam', 'Python', 1989]\n",
      "['Gitam', 1989]\n"
     ]
    }
   ],
   "source": [
    "#delete the specific item from list\n",
    "li=[\"Gitam\",\"Python\",1989]\n",
    "print(li)\n",
    "del li[1]\n",
    "print(li)"
   ]
  },
  {
   "cell_type": "code",
   "execution_count": 15,
   "metadata": {},
   "outputs": [
    {
     "name": "stdout",
     "output_type": "stream",
     "text": [
      "5\n",
      "[1, 9, 6, 18, 2, 1, 9, 6, 18, 2]\n",
      "5\n",
      "True\n",
      "False\n",
      "1 9 6 18 2 "
     ]
    }
   ],
   "source": [
    "#basic list operations\n",
    "lst1= [1,9,6,18,2]\n",
    "print(len(lst1))\n",
    "print(lst1*2)\n",
    "print(len(lst1))\n",
    "print(9 in lst1)\n",
    "print(15 in lst1)\n",
    "for x in range(len(lst1)):\n",
    "    print(lst1[x],end=\" \")"
   ]
  },
  {
   "cell_type": "code",
   "execution_count": 21,
   "metadata": {},
   "outputs": [
    {
     "name": "stdout",
     "output_type": "stream",
     "text": [
      "1\n",
      "18\n",
      "36\n",
      "7\n",
      "13\n"
     ]
    }
   ],
   "source": [
    "#function of the list\n",
    "lst1\n",
    "print(min(lst1))\n",
    "print(max(lst1))\n",
    "print(sum(lst1))\n",
    "print(sum(lst1)//len(lst1))\n",
    "print(sum(lst1[1::2])//len(lst1[1::2]))"
   ]
  },
  {
   "cell_type": "code",
   "execution_count": 40,
   "metadata": {},
   "outputs": [
    {
     "data": {
      "text/plain": [
       "[1, 9, 24, 24, 24, 56, 56, 123, 23, 45]"
      ]
     },
     "execution_count": 40,
     "metadata": {},
     "output_type": "execute_result"
    }
   ],
   "source": [
    "lst1\n",
    "lst1.append(24)\n",
    "lst1\n",
    "lst1.insert(2,56)\n",
    "lst1\n",
    "lst1.count(18)\n",
    "lst1.index(56)\n",
    "lst1.sort()\n",
    "lst1\n",
    "lst.pop()\n",
    "lst1\n",
    "lst1.pop(1)\n",
    "lst2=[123,23,45]\n",
    "lst1.extend(lst2)\n",
    "lst1"
   ]
  },
  {
   "cell_type": "code",
   "execution_count": 41,
   "metadata": {},
   "outputs": [
    {
     "data": {
      "text/plain": [
       "[1, 9, 24, 24, 56, 123, 23, 45]"
      ]
     },
     "execution_count": 41,
     "metadata": {},
     "output_type": "execute_result"
    }
   ],
   "source": [
    "lst1\n",
    "del lst1[3]\n",
    "del lst1[5]\n",
    "lst1\n"
   ]
  },
  {
   "cell_type": "code",
   "execution_count": 43,
   "metadata": {},
   "outputs": [
    {
     "data": {
      "text/plain": [
       "[1, 9, 24, 56, 123, 23, 45]"
      ]
     },
     "execution_count": 43,
     "metadata": {},
     "output_type": "execute_result"
    }
   ],
   "source": [
    "lst1\n",
    "del lst1[2]\n",
    "lst1"
   ]
  },
  {
   "cell_type": "code",
   "execution_count": 47,
   "metadata": {},
   "outputs": [
    {
     "name": "stdout",
     "output_type": "stream",
     "text": [
      "78\n",
      "52\n"
     ]
    }
   ],
   "source": [
    "#function to find the second large number from list\n",
    "def secondlarge(li):\n",
    "    li.sort()\n",
    "    return li[-2]\n",
    "def genericlarge(li,n):\n",
    "    li.sort()\n",
    "    return li[-n]\n",
    "li=[12,52,34,78,86]\n",
    "print(secondlarge(li))\n",
    "print(genericlarge(li,3))"
   ]
  },
  {
   "cell_type": "code",
   "execution_count": 51,
   "metadata": {},
   "outputs": [
    {
     "name": "stdout",
     "output_type": "stream",
     "text": [
      "15\n",
      "29\n"
     ]
    }
   ],
   "source": [
    "#funtion to find second least\n",
    "def secondleast(li):\n",
    "    li.sort()\n",
    "    return li[1]\n",
    "def genericleast(li,n):\n",
    "    li.sort()\n",
    "    return li[n]\n",
    "li=[5,67,34,29,15]\n",
    "print(secondleast(li))\n",
    "print(genericleast(li,2))"
   ]
  },
  {
   "cell_type": "markdown",
   "metadata": {},
   "source": [
    "### Linear Search\n",
    "- Linear search algorithm can be applied on duplicate and unique list\n",
    "      - Unique list: The all item of the list is appeared only one time\n",
    "      - Duplicate list: The item of the list can be appeared more than once\n",
    "- Linear search algorithm can be applied on sorted and unsorted list"
   ]
  },
  {
   "cell_type": "code",
   "execution_count": 57,
   "metadata": {},
   "outputs": [
    {
     "name": "stdout",
     "output_type": "stream",
     "text": [
      "4\n",
      "-1\n"
     ]
    }
   ],
   "source": [
    "#function to search the data in a list\n",
    "def linearsearch(li,k):\n",
    "    for x in range(len(li)):\n",
    "        if li[x]==k:\n",
    "            return x\n",
    "    return -1\n",
    "li = [1,34,52,76,93]\n",
    "print(linearsearch(li,93))\n",
    "print(linearsearch(li,3))"
   ]
  },
  {
   "cell_type": "code",
   "execution_count": 65,
   "metadata": {},
   "outputs": [
    {
     "name": "stdout",
     "output_type": "stream",
     "text": [
      "0 5 8 "
     ]
    }
   ],
   "source": [
    "#function for linear search of duplicate list\n",
    "def linear(li,key):\n",
    "    for x in range(len(li)):\n",
    "        if li[x]==key:\n",
    "            print(x,end=\" \")\n",
    "    return \n",
    "li = [5,43,67,95,32,5,75,28,5]\n",
    "linear(li,5)    "
   ]
  },
  {
   "cell_type": "code",
   "execution_count": 70,
   "metadata": {},
   "outputs": [
    {
     "name": "stdout",
     "output_type": "stream",
     "text": [
      " \n",
      "!!!!! \n",
      "!!!!!!!! \n"
     ]
    }
   ],
   "source": [
    "#function\n",
    "def linear(li,key):\n",
    "    for x in range(len(li)):\n",
    "        if li[x]==key:\n",
    "            for k in range(x):\n",
    "                print(end=\"!\")\n",
    "            print(\" \")\n",
    "                \n",
    "    return\n",
    "li = [5,43,67,95,32,5,75,28,5]\n",
    "linear(li,5)"
   ]
  },
  {
   "cell_type": "code",
   "execution_count": 73,
   "metadata": {},
   "outputs": [
    {
     "name": "stdout",
     "output_type": "stream",
     "text": [
      "15 60 "
     ]
    },
    {
     "data": {
      "text/plain": [
       "75"
      ]
     },
     "execution_count": 73,
     "metadata": {},
     "output_type": "execute_result"
    }
   ],
   "source": [
    "#function to print sum\n",
    "def list(li):\n",
    "    sum=0\n",
    "    for x in range(len(li)):\n",
    "        if li[x]%3==0 and li[x]%5==0:\n",
    "            print(li[x],end=\" \")\n",
    "            sum=sum+li[x]\n",
    "        \n",
    "    return sum\n",
    "li=[12,3,15,40,60,25,37]\n",
    "list(li)"
   ]
  },
  {
   "cell_type": "code",
   "execution_count": 86,
   "metadata": {},
   "outputs": [
    {
     "name": "stdout",
     "output_type": "stream",
     "text": [
      "1 5 21 45 9 "
     ]
    }
   ],
   "source": [
    "#function to print list\n",
    "#print 1st and last numbers as it is\n",
    "#need to multiply the previous and next number\n",
    "def num(li):\n",
    "    for x in range(len(li)):\n",
    "        if x==0 or x==len(li)-1:\n",
    "            print(li[x],end=\" \")\n",
    "        else:\n",
    "            print((li[x-1]*li[x+1]),end=\" \")\n",
    "    return\n",
    "li=[1,3,5,7,9]\n",
    "num(li)"
   ]
  },
  {
   "cell_type": "code",
   "execution_count": 2,
   "metadata": {},
   "outputs": [
    {
     "name": "stdout",
     "output_type": "stream",
     "text": [
      "2 3 9 10 12 "
     ]
    }
   ],
   "source": [
    "#function to print list\n",
    "#print first and last numbers\n",
    "#if both sides are even then print number\n",
    "def numb(li):\n",
    "    for x in range(len(li)):\n",
    "        if x==0 or x==len(li)-1:\n",
    "            print(li[x],end=\" \")\n",
    "        elif li[x-1]%2==0 and li[x+1]%2==0:\n",
    "            print(li[x],end=\" \")\n",
    "        else:\n",
    "            continue           \n",
    "    return\n",
    "li=[2,3,6,9,8,10,12]\n",
    "numb(li)"
   ]
  },
  {
   "cell_type": "markdown",
   "metadata": {},
   "source": [
    "### Number to List\n",
    "- Input as number\n",
    "- Expected output will be list"
   ]
  },
  {
   "cell_type": "code",
   "execution_count": 2,
   "metadata": {},
   "outputs": [
    {
     "data": {
      "text/plain": [
       "[1, 5, 3, 7, 9]"
      ]
     },
     "execution_count": 2,
     "metadata": {},
     "output_type": "execute_result"
    }
   ],
   "source": [
    "#function for conversion- number to list\n",
    "def con(n):\n",
    "    li=[]\n",
    "    while  n!=0:\n",
    "        r=n%10\n",
    "        li.append(r)\n",
    "        n=n//10\n",
    "    li.reverse()\n",
    "    return li\n",
    "\n",
    "con(15379)\n",
    "        "
   ]
  },
  {
   "cell_type": "code",
   "execution_count": 6,
   "metadata": {},
   "outputs": [
    {
     "data": {
      "text/plain": [
       "2"
      ]
     },
     "execution_count": 6,
     "metadata": {},
     "output_type": "execute_result"
    }
   ],
   "source": [
    "#function to count the occurance\n",
    "def occur(s,c):\n",
    "    cnt=0\n",
    "    for ch in s:\n",
    "        if ch==c:\n",
    "            cnt+=1\n",
    "    return cnt\n",
    "def occur1(s,c):\n",
    "    return s.count(c)\n",
    "occur1(\"python programming\",'m')\n",
    "        "
   ]
  },
  {
   "cell_type": "markdown",
   "metadata": {},
   "source": [
    "### String to list conversion\n",
    "\n",
    "- Input will be string\n",
    "- Expected output will be list"
   ]
  },
  {
   "cell_type": "code",
   "execution_count": 7,
   "metadata": {},
   "outputs": [
    {
     "data": {
      "text/plain": [
       "[2, 3, 5, 7, 11]"
      ]
     },
     "execution_count": 7,
     "metadata": {},
     "output_type": "execute_result"
    }
   ],
   "source": [
    "#function to convert string to list\n",
    "def conv(s):\n",
    "    li= s.split()\n",
    "    list=[]\n",
    "    for i in li:\n",
    "        list.append(int(i))\n",
    "    return list\n",
    "s=\"2 3 5 7 11\"\n",
    "conv(s)"
   ]
  },
  {
   "cell_type": "markdown",
   "metadata": {},
   "source": [
    "### Sorting algorithms\n",
    "\n",
    "- All the sorting algorithms make the list into ascending order\n",
    "- Bubble sort\n",
    "- Selection sort\n",
    "- Insertion sort\n",
    "\n",
    "### Bubble sort\n",
    "\n",
    "- This algorithm compares the adj elements \n",
    "- If the element is greater than second element than it is required to swap the elements"
   ]
  },
  {
   "cell_type": "code",
   "execution_count": 10,
   "metadata": {},
   "outputs": [
    {
     "data": {
      "text/plain": [
       "[23, 34, 46, 65, 78, 90]"
      ]
     },
     "execution_count": 10,
     "metadata": {},
     "output_type": "execute_result"
    }
   ],
   "source": [
    "#bubble sort\n",
    "def bubble(li):\n",
    "    for i in range(len(li)-1):\n",
    "        for j in range(len(li)-1):\n",
    "            if li[j]>li[j+1]:\n",
    "                li[j],li[j+1]=li[j+1],li[j]\n",
    "    return li\n",
    "li=[23,65,34,78,90,46]\n",
    "bubble(li)"
   ]
  },
  {
   "cell_type": "code",
   "execution_count": null,
   "metadata": {},
   "outputs": [],
   "source": []
  }
 ],
 "metadata": {
  "kernelspec": {
   "display_name": "Python 3",
   "language": "python",
   "name": "python3"
  },
  "language_info": {
   "codemirror_mode": {
    "name": "ipython",
    "version": 3
   },
   "file_extension": ".py",
   "mimetype": "text/x-python",
   "name": "python",
   "nbconvert_exporter": "python",
   "pygments_lexer": "ipython3",
   "version": "3.7.3"
  }
 },
 "nbformat": 4,
 "nbformat_minor": 2
}

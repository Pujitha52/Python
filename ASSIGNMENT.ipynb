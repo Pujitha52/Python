{
 "cells": [
  {
   "cell_type": "code",
   "execution_count": 2,
   "metadata": {},
   "outputs": [
    {
     "name": "stdout",
     "output_type": "stream",
     "text": [
      "14569"
     ]
    }
   ],
   "source": [
    "#1. [1,4,5,6,9] - 14569\n",
    "def one(li):\n",
    "    for x in range(len(li)):\n",
    "        print(li[x],end=\"\")\n",
    "    return\n",
    "li=[1,4,5,6,9]\n",
    "one(li)"
   ]
  },
  {
   "cell_type": "code",
   "execution_count": 3,
   "metadata": {},
   "outputs": [
    {
     "name": "stdout",
     "output_type": "stream",
     "text": [
      "46"
     ]
    }
   ],
   "source": [
    "#2. [1,4,5,6,9]  - 46(Consider only even numbers from list)\n",
    "def two(li):\n",
    "    for x in range(len(li)):\n",
    "        if li[x]%2==0:\n",
    "            print(li[x],end=\"\")\n",
    "    return\n",
    "li=[1,4,5,6,9]\n",
    "two(li)"
   ]
  },
  {
   "cell_type": "code",
   "execution_count": 28,
   "metadata": {},
   "outputs": [
    {
     "data": {
      "text/plain": [
       "[1, 4, 3, 16, 5]"
      ]
     },
     "execution_count": 28,
     "metadata": {},
     "output_type": "execute_result"
    }
   ],
   "source": [
    "#3. [1,2,3,4,5] - [1,4,3,16,5] (Consider only even number and square of it)\n",
    "def three(li):\n",
    "    l1=[]\n",
    "    for x in range(len(li)):\n",
    "        if li[x]%2==0:\n",
    "            r=li[x]*li[x]\n",
    "            l1.insert(x,r)\n",
    "        else:\n",
    "            l=li[x]\n",
    "            l1.insert(x,l)\n",
    "    return l1\n",
    "li=[1,2,3,4,5]\n",
    "three(li)\n",
    "\n",
    "    "
   ]
  },
  {
   "cell_type": "code",
   "execution_count": 25,
   "metadata": {},
   "outputs": [
    {
     "data": {
      "text/plain": [
       "[15, 34, 31, 28, 4]"
      ]
     },
     "execution_count": 25,
     "metadata": {},
     "output_type": "execute_result"
    }
   ],
   "source": [
    "#4. [15,19,12,16,4] - [15,34,31,28,4] (Need to add previous number to current number)\n",
    "def four(li):\n",
    "    lis=[]\n",
    "    for x in range(len(li)):\n",
    "        if x==0 or x==len(li)-1:\n",
    "            r=li[x]\n",
    "            lis.insert(x,r)\n",
    "        else:\n",
    "            l=li[x-1]+li[x]\n",
    "            lis.insert(x,l)\n",
    "    return lis\n",
    "li=[15,19,12,16,4]\n",
    "four(li)"
   ]
  },
  {
   "cell_type": "code",
   "execution_count": null,
   "metadata": {},
   "outputs": [],
   "source": []
  }
 ],
 "metadata": {
  "kernelspec": {
   "display_name": "Python 3",
   "language": "python",
   "name": "python3"
  },
  "language_info": {
   "codemirror_mode": {
    "name": "ipython",
    "version": 3
   },
   "file_extension": ".py",
   "mimetype": "text/x-python",
   "name": "python",
   "nbconvert_exporter": "python",
   "pygments_lexer": "ipython3",
   "version": "3.7.3"
  }
 },
 "nbformat": 4,
 "nbformat_minor": 2
}

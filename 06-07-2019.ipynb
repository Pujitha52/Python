{
 "cells": [
  {
   "cell_type": "code",
   "execution_count": 6,
   "metadata": {},
   "outputs": [
    {
     "name": "stdout",
     "output_type": "stream",
     "text": [
      "enter n1 5\n",
      "enter n2 8\n",
      "enter n3 5\n",
      "8 is greater\n"
     ]
    }
   ],
   "source": [
    "#find the large number from given three numbers\n",
    "n=int(input(\"enter n1 \"))\n",
    "n1=int(input(\"enter n2 \"))\n",
    "n2=int(input(\"enter n3 \"))\n",
    "if n>n1 and n>n2:\n",
    "    print((n), \"is greater\")\n",
    "elif n1>n and n1>n2:\n",
    "    print((n1), \"is greater\")\n",
    "else :\n",
    "    print((n2), \"is greater\")"
   ]
  },
  {
   "cell_type": "code",
   "execution_count": 8,
   "metadata": {},
   "outputs": [
    {
     "name": "stdout",
     "output_type": "stream",
     "text": [
      "enter the year 2016\n",
      "2016  is a leap year \n"
     ]
    }
   ],
   "source": [
    "#if a year is leap year or not\n",
    "n=int(input(\"enter the year \"))\n",
    "if n%4==0:\n",
    "    print((n),\" is a leap year \")\n",
    "else:\n",
    "    print((n),\" is not a leap year\")\n",
    "    "
   ]
  },
  {
   "cell_type": "code",
   "execution_count": 12,
   "metadata": {},
   "outputs": [
    {
     "name": "stdout",
     "output_type": "stream",
     "text": [
      "GITAM\n",
      "GITAM\n",
      "GITAM\n",
      "GITAM\n",
      "GITAM\n"
     ]
    }
   ],
   "source": [
    "#need print \"gitam\" 5 times\n",
    "i=0\n",
    "while i<5:\n",
    "    print(\"GITAM\")\n",
    "    i=i+1\n"
   ]
  },
  {
   "cell_type": "code",
   "execution_count": 13,
   "metadata": {},
   "outputs": [
    {
     "name": "stdout",
     "output_type": "stream",
     "text": [
      "number 5\n",
      "Gitam\n",
      "Gitam\n",
      "Gitam\n",
      "Gitam\n",
      "Gitam\n"
     ]
    }
   ],
   "source": [
    "n=int(input(\"number \"))\n",
    "i=0\n",
    "while i<(n):\n",
    "    print(\"Gitam\")\n",
    "    i=i+1"
   ]
  },
  {
   "cell_type": "code",
   "execution_count": 15,
   "metadata": {},
   "outputs": [
    {
     "name": "stdout",
     "output_type": "stream",
     "text": [
      "enter the value of n5\n",
      "1\n",
      "2\n",
      "3\n",
      "4\n",
      "5\n"
     ]
    }
   ],
   "source": [
    "#print n natural numbers using while loop\n",
    "n=(int(input(\"enter the value of n\")))\n",
    "i=1\n",
    "while i<=(n):\n",
    "    print(i)\n",
    "    i=i+1"
   ]
  },
  {
   "cell_type": "code",
   "execution_count": 19,
   "metadata": {},
   "outputs": [
    {
     "name": "stdout",
     "output_type": "stream",
     "text": [
      "enter the value of n10\n",
      "30\n"
     ]
    }
   ],
   "source": [
    "#read a number n\n",
    "#add only even numbers between 1 and n\n",
    "n=(int(input(\"enter the value of n\")))\n",
    "i=0\n",
    "sum=0\n",
    "while i<=(n):\n",
    "    sum=sum+i\n",
    "    i=i+2\n",
    "print(sum)    \n",
    "    "
   ]
  },
  {
   "cell_type": "code",
   "execution_count": null,
   "metadata": {},
   "outputs": [],
   "source": [
    "#number in reverse order\n",
    "n=int(input('enter a number'))\n",
    "sum=0\n",
    "while n!=0:\n",
    "    r=n%10\n",
    "    sum=sum*10+r\n",
    "    n=n/10\n",
    "print(sum)"
   ]
  },
  {
   "cell_type": "code",
   "execution_count": null,
   "metadata": {},
   "outputs": [],
   "source": []
  }
 ],
 "metadata": {
  "kernelspec": {
   "display_name": "Python 3",
   "language": "python",
   "name": "python3"
  },
  "language_info": {
   "codemirror_mode": {
    "name": "ipython",
    "version": 3
   },
   "file_extension": ".py",
   "mimetype": "text/x-python",
   "name": "python",
   "nbconvert_exporter": "python",
   "pygments_lexer": "ipython3",
   "version": "3.7.3"
  }
 },
 "nbformat": 4,
 "nbformat_minor": 2
}

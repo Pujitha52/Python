{
 "cells": [
  {
   "cell_type": "code",
   "execution_count": 6,
   "metadata": {},
   "outputs": [
    {
     "name": "stdout",
     "output_type": "stream",
     "text": [
      "3 2 1 1 0 "
     ]
    }
   ],
   "source": [
    "#fibnocci series in reverse order\n",
    "def fib(n):\n",
    "    a=[0] *n\n",
    "    a[0]=0\n",
    "    a[1]=1\n",
    "    for i in range(2,n):\n",
    "        a[i]=a[i-2]+a[i-1]\n",
    "    for i in range(n-1,-1,-1):\n",
    "        print(a[i],end=\" \")\n",
    "    return \n",
    "fib(5)"
   ]
  },
  {
   "cell_type": "code",
   "execution_count": 55,
   "metadata": {},
   "outputs": [
    {
     "data": {
      "text/plain": [
       "12"
      ]
     },
     "execution_count": 55,
     "metadata": {},
     "output_type": "execute_result"
    }
   ],
   "source": [
    "#repeated numbers\n",
    "def sum(li):\n",
    "    s=0\n",
    "    for i in range(0,len(li)):\n",
    "        j=0\n",
    "        if li[i]!=li[j]:\n",
    "            s=s+li[i]\n",
    "        else: \n",
    "                         \n",
    "    return s\n",
    "li=[1,2,3,2,5]\n",
    "sum(li)                "
   ]
  },
  {
   "cell_type": "code",
   "execution_count": 25,
   "metadata": {},
   "outputs": [
    {
     "name": "stdout",
     "output_type": "stream",
     "text": [
      "1 3 9 27 81 243 "
     ]
    }
   ],
   "source": [
    "#cubes\n",
    "def cube(n):\n",
    "    i=1\n",
    "    for i in range(n+1):\n",
    "        print(pow(3,i) ,end=\" \")\n",
    "    return\n",
    "cube(5)\n",
    "    "
   ]
  },
  {
   "cell_type": "code",
   "execution_count": 29,
   "metadata": {},
   "outputs": [
    {
     "name": "stdout",
     "output_type": "stream",
     "text": [
      "1 2 4 8 16 32 "
     ]
    }
   ],
   "source": [
    "#cubes\n",
    "def sqr(n):\n",
    "    for i in range(0,n+1):\n",
    "        print(pow(2,i) ,end=\" \")\n",
    "    return\n",
    "sqr(5)"
   ]
  },
  {
   "cell_type": "code",
   "execution_count": 55,
   "metadata": {},
   "outputs": [
    {
     "name": "stdout",
     "output_type": "stream",
     "text": [
      "1!+2!+3!+4!+5!+"
     ]
    }
   ],
   "source": [
    "def sum(n):\n",
    "    for i in range(1,n+1):\n",
    "        fact=1\n",
    "        if i<=n:\n",
    "            print(i,end=\"!+\")\n",
    "    return \n",
    "sum(5)"
   ]
  },
  {
   "cell_type": "code",
   "execution_count": 3,
   "metadata": {},
   "outputs": [
    {
     "name": "stdout",
     "output_type": "stream",
     "text": [
      "1 3 4 8 15 27 50 92 "
     ]
    }
   ],
   "source": [
    "#series generate\n",
    "def ser(n):\n",
    "    a=[0]*n\n",
    "    a[0]=1\n",
    "    a[1]=3\n",
    "    a[2]=4\n",
    "    for i in range(3,n):\n",
    "        a[i]=a[i-3]+a[i-2]+a[i-1]\n",
    "    for x in range(0,n):     \n",
    "        print(a[x],end=\" \")\n",
    "    return \n",
    "ser(8)"
   ]
  },
  {
   "cell_type": "code",
   "execution_count": 11,
   "metadata": {},
   "outputs": [
    {
     "name": "stdout",
     "output_type": "stream",
     "text": [
      "2 15 41 80 132 "
     ]
    }
   ],
   "source": [
    "def gen(n):\n",
    "    j=2\n",
    "    for i in range(1,n+1):\n",
    "        print(j,end=\" \")\n",
    "        j=j+(13*i)\n",
    "    return\n",
    "gen(5)"
   ]
  },
  {
   "cell_type": "code",
   "execution_count": 12,
   "metadata": {},
   "outputs": [
    {
     "data": {
      "text/plain": [
       "5"
      ]
     },
     "execution_count": 12,
     "metadata": {},
     "output_type": "execute_result"
    }
   ],
   "source": [
    "from math import gcd as gcd\n",
    "gcd(10,15)"
   ]
  },
  {
   "cell_type": "code",
   "execution_count": 14,
   "metadata": {},
   "outputs": [
    {
     "name": "stdout",
     "output_type": "stream",
     "text": [
      "84 4 43 14 85 54 42 37 12 1 "
     ]
    }
   ],
   "source": [
    "#function to generate n random numbers in given range\n",
    "import random\n",
    "def ran(n,lb,ub):\n",
    "    for i in range(0,n):\n",
    "        print(random.randint(lb,ub),end=\" \")\n",
    "    return\n",
    "ran(10,0,100)"
   ]
  },
  {
   "cell_type": "code",
   "execution_count": 48,
   "metadata": {},
   "outputs": [
    {
     "data": {
      "text/plain": [
       "'Try once again'"
      ]
     },
     "execution_count": 48,
     "metadata": {},
     "output_type": "execute_result"
    }
   ],
   "source": [
    "#create a simple game\n",
    "#generate 20 random numbers 0 to 500\n",
    "import random\n",
    "def ran(n,lb,ub):\n",
    "    li=[]\n",
    "    for i in range(0,n):\n",
    "         li.append(random.randint(lb,ub))\n",
    "    return li\n",
    "def check(n):\n",
    "    if n in li:\n",
    "        return \"Congrats\"\n",
    "    else:\n",
    "        return \"Try once again\" \n",
    "    return\n",
    "\n",
    "\n",
    "check(55)"
   ]
  },
  {
   "cell_type": "code",
   "execution_count": 51,
   "metadata": {},
   "outputs": [
    {
     "name": "stdout",
     "output_type": "stream",
     "text": [
      "1 9 17 33 49 73 97 129 161 201 241 "
     ]
    }
   ],
   "source": [
    "#generate series\n",
    "def num(n):\n",
    "   a=8\n",
    "   b=1\n",
    "   c=n//2\n",
    "   print(1,end=\" \")\n",
    "   for i in range(1,c+1):\n",
    "       for i in range(1,3):\n",
    "           b=b+a\n",
    "           print(b,end=\" \")\n",
    "       a=a+8\n",
    "   return\n",
    "num(10)"
   ]
  },
  {
   "cell_type": "code",
   "execution_count": null,
   "metadata": {},
   "outputs": [],
   "source": []
  }
 ],
 "metadata": {
  "kernelspec": {
   "display_name": "Python 3",
   "language": "python",
   "name": "python3"
  },
  "language_info": {
   "codemirror_mode": {
    "name": "ipython",
    "version": 3
   },
   "file_extension": ".py",
   "mimetype": "text/x-python",
   "name": "python",
   "nbconvert_exporter": "python",
   "pygments_lexer": "ipython3",
   "version": "3.7.3"
  }
 },
 "nbformat": 4,
 "nbformat_minor": 2
}

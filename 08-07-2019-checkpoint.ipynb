{
 "cells": [
  {
   "cell_type": "code",
   "execution_count": 4,
   "metadata": {},
   "outputs": [
    {
     "name": "stdout",
     "output_type": "stream",
     "text": [
      "1 2 5 10 "
     ]
    }
   ],
   "source": [
    "#factors of a given number\n",
    "def factor(n):\n",
    "    for i in range(1,n+1):\n",
    "        if n%i==0:\n",
    "            print(i,end=\" \")\n",
    "    return\n",
    "factor(10)\n"
   ]
  },
  {
   "cell_type": "code",
   "execution_count": 10,
   "metadata": {},
   "outputs": [
    {
     "name": "stdout",
     "output_type": "stream",
     "text": [
      "True\n",
      "False\n"
     ]
    }
   ],
   "source": [
    "#given number is prime or not\n",
    "def prime(n):\n",
    "    flag= True\n",
    "    for i in range (2,n//2+1):\n",
    "        if n%i==0:\n",
    "            flag= False\n",
    "            return flag\n",
    "    return flag   \n",
    "print(prime(5))\n",
    "print(prime(9))"
   ]
  },
  {
   "cell_type": "code",
   "execution_count": 4,
   "metadata": {},
   "outputs": [
    {
     "data": {
      "text/plain": [
       "4"
      ]
     },
     "execution_count": 4,
     "metadata": {},
     "output_type": "execute_result"
    }
   ],
   "source": [
    "#function to find prime numbers in given range\n",
    "def primeno(n):\n",
    "    cnt=0\n",
    "    for a in range (2,n+1):\n",
    "        k=0\n",
    "        for i in range(2,a//2+1):\n",
    "            if a%i==0:\n",
    "                k=k+1\n",
    "        if(k<=0):\n",
    "            cnt=cnt+1\n",
    "    return cnt\n",
    "primeno(10)"
   ]
  },
  {
   "cell_type": "code",
   "execution_count": 9,
   "metadata": {},
   "outputs": [
    {
     "name": "stdout",
     "output_type": "stream",
     "text": [
      "NO\n",
      "Yes\n"
     ]
    }
   ],
   "source": [
    "#sum of individual numbers factorial is equal to original number(strong number)\n",
    "def factorial(n):\n",
    "    fact=1\n",
    "    for i in range(2,n+1):\n",
    "        fact *= i\n",
    "    return fact\n",
    "def fact(n):\n",
    "    sum=0\n",
    "    buffer=n\n",
    "    while n!=0:\n",
    "        r=n%10\n",
    "        sum+=factorial(r)\n",
    "        n=n//10\n",
    "    if sum==buffer:\n",
    "        return \"Yes\"\n",
    "    else:\n",
    "        return \"NO\"\n",
    "    return\n",
    "print(fact(123))\n",
    "print(fact(145))"
   ]
  },
  {
   "cell_type": "code",
   "execution_count": 24,
   "metadata": {},
   "outputs": [
    {
     "name": "stdout",
     "output_type": "stream",
     "text": [
      "9\n",
      "2\n"
     ]
    }
   ],
   "source": [
    "#function to return count of palindrome numbers between two numbers\n",
    "def pal(x):\n",
    "    sum=0\n",
    "    buffer=x\n",
    "    while x!=0:\n",
    "        r=x%10\n",
    "        sum=sum*10+r\n",
    "        x=x//10\n",
    "    if sum==buffer:\n",
    "        return True\n",
    "    else:\n",
    "        return False\n",
    "    return\n",
    "def palindrome(lb,ub):\n",
    "        cnt=0\n",
    "        while lb!=ub:\n",
    "            if pal(lb)==True:\n",
    "                cnt=cnt+1\n",
    "            lb=lb+1\n",
    "        return cnt\n",
    "print(palindrome(11,100))\n",
    "print(palindrome(21,40))"
   ]
  },
  {
   "cell_type": "code",
   "execution_count": 5,
   "metadata": {},
   "outputs": [
    {
     "name": "stdout",
     "output_type": "stream",
     "text": [
      "6 \n",
      "6 28 496 8128 \n"
     ]
    }
   ],
   "source": [
    "#function to generate perfect number\n",
    "def perfect(n):\n",
    "    sum=0\n",
    "    for i in range(1,n//2+1):\n",
    "        if n%i==0:\n",
    "            sum=sum+i\n",
    "    return sum\n",
    "def isperfect(n):\n",
    "    if perfect(n)==n:\n",
    "        return True\n",
    "    return False\n",
    "def number(lb,ub):\n",
    "    for x in range(lb,ub+1):\n",
    "        if isperfect(x):\n",
    "            print(x,end=\" \")\n",
    "    print()\n",
    "    return\n",
    "number(1,10)\n",
    "number(1,10000)"
   ]
  },
  {
   "cell_type": "code",
   "execution_count": 14,
   "metadata": {},
   "outputs": [
    {
     "name": "stdout",
     "output_type": "stream",
     "text": [
      "P\n",
      "y\n",
      "n\n",
      "6\n",
      "n\n",
      "n\n",
      "o\n",
      "Py\n",
      "Py\n",
      "hon\n",
      "yth\n",
      "nohtyP\n",
      "Pto\n",
      "Ph\n",
      "Pto\n",
      "nhy\n"
     ]
    }
   ],
   "source": [
    "s1='Python'\n",
    "print(s1[0])\n",
    "print(s1[1])\n",
    "print(s1[5])\n",
    "print(len(s1))\n",
    "print(s1[len(s1)-1])\n",
    "print(s1[-1])\n",
    "print(s1[-2])\n",
    "print(s1[0:2])\n",
    "print(s1[:2])\n",
    "print(s1[-3:])\n",
    "print(s1[1:4])\n",
    "print(s1[-1::-1])\n",
    "print(s1[::2])\n",
    "print(s1[::3])\n",
    "print(s1[::2])\n",
    "print(s1[::-2])"
   ]
  },
  {
   "cell_type": "code",
   "execution_count": 15,
   "metadata": {},
   "outputs": [
    {
     "data": {
      "text/plain": [
       "'gnimmargorP'"
      ]
     },
     "execution_count": 15,
     "metadata": {},
     "output_type": "execute_result"
    }
   ],
   "source": [
    "def reversestring(str):\n",
    "    return str[-1::-1]\n",
    "reversestring(\"Programming\")"
   ]
  },
  {
   "cell_type": "code",
   "execution_count": 18,
   "metadata": {},
   "outputs": [
    {
     "name": "stdout",
     "output_type": "stream",
     "text": [
      "False\n",
      "True\n"
     ]
    }
   ],
   "source": [
    "def ispalindrome(str):\n",
    "    if str==str[-1::-1]:\n",
    "        return True\n",
    "    else:\n",
    "        return False\n",
    "    return\n",
    "print(ispalindrome(\"PYTHON\"))\n",
    "print(ispalindrome(\"mom\"))"
   ]
  },
  {
   "cell_type": "code",
   "execution_count": 18,
   "metadata": {},
   "outputs": [
    {
     "name": "stdout",
     "output_type": "stream",
     "text": [
      "P G M G "
     ]
    }
   ],
   "source": [
    "#function to print the upper case characters\n",
    "def printupper(x):\n",
    "    for i in range(len(x)):\n",
    "        if ord(x[i])>=65 and ord(x[i])<=90:\n",
    "            print(x[i],end=\" \")\n",
    "    return\n",
    "printupper('ProGramMinG')"
   ]
  },
  {
   "cell_type": "code",
   "execution_count": 27,
   "metadata": {},
   "outputs": [
    {
     "name": "stdout",
     "output_type": "stream",
     "text": [
      "Same count\n",
      "Programming\n"
     ]
    }
   ],
   "source": [
    "#function to print \"Python\"\n",
    "#upper and lower case is same\n",
    "#print\"programming\" if not same\n",
    "def caseletters(x):\n",
    "    k=0\n",
    "    j=0\n",
    "    for i in range(len(x)):\n",
    "        if ord(x[i])>=65 and ord(x[i])<=90:\n",
    "            k=k+1\n",
    "        elif ord(x[i])>=97 and ord(x[i])<=122:\n",
    "            j=j+1\n",
    "    if k==j:\n",
    "        return \"Same count\"\n",
    "    else:\n",
    "        return \"Programming\"\n",
    "print(caseletters('PYThon'))\n",
    "print(caseletters('PythOn'))"
   ]
  },
  {
   "cell_type": "code",
   "execution_count": 29,
   "metadata": {},
   "outputs": [
    {
     "name": "stdout",
     "output_type": "stream",
     "text": [
      "9 0 6 2 5 "
     ]
    }
   ],
   "source": [
    "#extract digits from given number\n",
    "def digits(x):\n",
    "    for i in range(len(x)):\n",
    "        if ord(x[i])>=48 and ord(x[i])<=57:\n",
    "            print(x[i],end=\" \")\n",
    "    return\n",
    "digits(\"P9Y0T6H2O5N\")"
   ]
  },
  {
   "cell_type": "code",
   "execution_count": 36,
   "metadata": {},
   "outputs": [
    {
     "name": "stdout",
     "output_type": "stream",
     "text": [
      "8 3 6 9 "
     ]
    },
    {
     "data": {
      "text/plain": [
       "26"
      ]
     },
     "execution_count": 36,
     "metadata": {},
     "output_type": "execute_result"
    }
   ],
   "source": [
    "#function to return\n",
    "def sum(x):\n",
    "    k=0\n",
    "    for i in range(len(x)):\n",
    "        if ord(x[i])>=48 and ord(x[i])<=57:\n",
    "            print(x[i],end=\" \")\n",
    "            k=k+(ord(x[i])-48)\n",
    "    return k\n",
    "sum('b8o3a6r9d')\n",
    "            "
   ]
  },
  {
   "cell_type": "code",
   "execution_count": 39,
   "metadata": {},
   "outputs": [
    {
     "data": {
      "text/plain": [
       "14"
      ]
     },
     "execution_count": 39,
     "metadata": {},
     "output_type": "execute_result"
    }
   ],
   "source": [
    "#function to return\n",
    "def sumofevendigits(x):\n",
    "    sum=0\n",
    "    for i in range(len(x)):\n",
    "        if ord(x[i])>=48 and ord(x[i])<=57:\n",
    "            if (ord(x[i])-48)%2==0:\n",
    "                sum=sum+(ord(x[i])-48)\n",
    "    return sum\n",
    "sumofevendigits('b8o3a6r9d')"
   ]
  },
  {
   "cell_type": "code",
   "execution_count": 49,
   "metadata": {},
   "outputs": [
    {
     "name": "stdout",
     "output_type": "stream",
     "text": [
      "P R O G R A M M I N G "
     ]
    }
   ],
   "source": [
    "#function to print the specific word in uppercasr\n",
    "def uppercase(x):\n",
    "    spacecnt=0\n",
    "    for i in range(len(x)):\n",
    "        if ord(x[i])==32:\n",
    "            spacecnt+=1\n",
    "        if spacecnt ==1:\n",
    "            if ord(x[i])>=65 and ord(x[i])<=90:\n",
    "                 print(x[i], end=\" \")\n",
    "            elif ord(x[i])>=97 and ord(x[i])<=122:\n",
    "                print(chr(ord(x[i])-32),end=\" \")\n",
    "        if spacecnt==2:\n",
    "            break\n",
    "    return\n",
    "    \n",
    "uppercase('Python Programming Was Easy')\n",
    "        "
   ]
  },
  {
   "cell_type": "code",
   "execution_count": null,
   "metadata": {},
   "outputs": [],
   "source": []
  }
 ],
 "metadata": {
  "kernelspec": {
   "display_name": "Python 3",
   "language": "python",
   "name": "python3"
  },
  "language_info": {
   "codemirror_mode": {
    "name": "ipython",
    "version": 3
   },
   "file_extension": ".py",
   "mimetype": "text/x-python",
   "name": "python",
   "nbconvert_exporter": "python",
   "pygments_lexer": "ipython3",
   "version": "3.7.3"
  }
 },
 "nbformat": 4,
 "nbformat_minor": 2
}
